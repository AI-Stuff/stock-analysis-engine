{
 "cells": [
  {
   "cell_type": "markdown",
   "metadata": {},
   "source": [
    "## Stock Analysis Engine\n",
    "\n",
    "Analyze information about publicly traded companies from Yahoo (https://finance.yahoo.com/) and IEX Real-Time Price https://iextrading.com/developer/docs/ (supported data includes: news, quotes, dividends, daily, intraday, statistics, financials, earnings, options, and more). Once collected the data is archived in s3 (using minio https://minio.io) and automatically cached in redis.\n",
    "\n",
    "It uses Celery workers to process all tasks http://www.celeryproject.org/ and is a horizontally scalable worker pool that works with many transports and backends (https://github.com/celery/celery#transports-and-backends)\n"
   ]
  },
  {
   "cell_type": "markdown",
   "metadata": {},
   "source": [
    "## Getting Started"
   ]
  },
  {
   "cell_type": "markdown",
   "metadata": {},
   "source": [
    "### Start Services\n",
    "\n",
    "To develop jupyter notebooks start the notebook-integration (https://github.com/AlgoTraders/stock-analysis-engine/blob/master/compose/notebook-integration.yml) containers using docker-compose. Here's the command to start it:\n",
    "\n",
    "```\n",
    "./compose/start.sh -j\n",
    "```\n",
    "\n",
    "Verify the containers are running:\n",
    "\n",
    "```\n",
    "docker ps -a\n",
    "```"
   ]
  },
  {
   "cell_type": "markdown",
   "metadata": {},
   "source": [
    "### Download and Prepare Data\n",
    "\n",
    "With a valid internet connection you can the following download datasets from IEX and Yahoo. \n",
    "\n",
    "#### IEX via pyEX\n",
    "\n",
    "- minute (intraday)\n",
    "- daily\n",
    "- stats\n",
    "- peers\n",
    "- news\n",
    "- financials\n",
    "- earnings\n",
    "- dividends\n",
    "- company\n",
    "\n",
    "#### Yahoo\n",
    "\n",
    "- pricing\n",
    "- options\n",
    "- news\n",
    "\n",
    "Note, please refer to the latest data that is fetched for these services:\n",
    "\n",
    "- IEX - https://github.com/AlgoTraders/stock-analysis-engine/blob/master/analysis_engine/iex/fetch_data.py\n",
    "- Yahoo - https://github.com/AlgoTraders/stock-analysis-engine/blob/master/analysis_engine/yahoo/get_data.py"
   ]
  },
  {
   "cell_type": "markdown",
   "metadata": {},
   "source": [
    "### Load "
   ]
  },
  {
   "cell_type": "code",
   "execution_count": 18,
   "metadata": {},
   "outputs": [],
   "source": [
    "import datetime\n",
    "import analysis_engine.work_tasks.get_new_pricing_data as task_pricing\n",
    "from analysis_engine.api_requests import build_get_new_pricing_request\n",
    "from spylunking.log.setup_logging import build_colorized_logger\n",
    "\n",
    "log = build_colorized_logger(name='intro-nb')"
   ]
  },
  {
   "cell_type": "markdown",
   "metadata": {},
   "source": [
    "### Set up Collection"
   ]
  },
  {
   "cell_type": "code",
   "execution_count": 23,
   "metadata": {},
   "outputs": [
    {
     "name": "stdout",
     "output_type": "stream",
     "text": [
      "2018-10-05 06:02:57,206 - intro-nb - INFO - starting collection ticker=SPY redis_key=SPY_latest s3_bucket=tutorials s3_key=SPY_intro_2018-10-05\n"
     ]
    }
   ],
   "source": [
    "ticker = 'SPY'\n",
    "\n",
    "# Store in this S3 key:\n",
    "s3_bucket = 'tutorials'\n",
    "s3_key = '{}_intro_{}'.format(ticker, datetime.datetime.now().strftime('%Y-%m-%d'))\n",
    "\n",
    "# Store in this Redis key\n",
    "redis_key = '{}_latest'.format(ticker)\n",
    "\n",
    "\"\"\"\n",
    "Build the request (a work dictionary):\n",
    "https://github.com/AlgoTraders/stock-analysis-engine/blob/master/analysis_engine/api_requests.py#L49\n",
    "\"\"\"\n",
    "work = build_get_new_pricing_request()\n",
    "\n",
    "work['ticker'] = ticker\n",
    "work['fetch_mode'] = 'all'\n",
    "work['s3_key'] = s3_key\n",
    "work['redis_key'] = redis_key\n",
    "work['label'] = '{}'.format(s3_key)\n",
    "work['celery_disabled'] = True\n",
    "\n",
    "log.info(\n",
    "    'starting collection ticker={} '\n",
    "    'redis_key={} s3_bucket={} s3_key={}'.format(\n",
    "        ticker,\n",
    "        redis_key,\n",
    "        s3_bucket,\n",
    "        s3_key))"
   ]
  },
  {
   "cell_type": "code",
   "execution_count": 24,
   "metadata": {},
   "outputs": [
    {
     "name": "stdout",
     "output_type": "stream",
     "text": [
      "2018-10-05 06:02:59,237 - analysis_engine.work_tasks.get_new_pricing_data - INFO - task - get_new_pricing_data - start work_dict={'ticker': 'SPY', 'ticker_id': 1, 's3_bucket': 'pricing', 's3_key': 'SPY_intro_2018-10-05', 'redis_key': 'SPY_latest', 'strike': None, 'contract': 'C', 'get_pricing': True, 'get_news': True, 'get_options': True, 'fetch_mode': 'all', 'label': 'SPY_intro_2018-10-05', 'celery_disabled': True}\n",
      "2018-10-05 06:02:59,244 - analysis_engine.work_tasks.get_new_pricing_data - INFO - SPY_intro_2018-10-05 getting pricing for ticker=SPY cur_date=2018-10-05 06:02:59.244627 exp_date=2018-10-19 06:02:59.244637\n",
      "2018-10-05 06:02:59,250 - analysis_engine.work_tasks.get_new_pricing_data - INFO - SPY_intro_2018-10-05 getting ticker=SPY pricing\n",
      "2018-10-05 06:03:00,061 - analysis_engine.work_tasks.get_new_pricing_data - INFO - SPY_intro_2018-10-05 ticker=SPY close=291.72 vol=111545910\n",
      "2018-10-05 06:03:00,064 - analysis_engine.work_tasks.get_new_pricing_data - INFO - SPY_intro_2018-10-05 getting ticker=SPY news\n",
      "2018-10-05 06:03:01,220 - analysis_engine.work_tasks.get_new_pricing_data - INFO - SPY_intro_2018-10-05 ticker=SPY num_news=0 get options close=291.72 exp_date=2018-10-19 contract=C strike=291\n",
      "2018-10-05 06:03:01,230 - analysis_engine.get_pricing - INFO - get_options ticker=SPY contract=C exp_date=2018-10-19 strike=291\n",
      "2018-10-05 06:03:01,434 - analysis_engine.work_tasks.get_new_pricing_data - INFO - SPY_intro_2018-10-05 updating pricing for ticker=SPY close=291.72 options=1 news=0\n",
      "2018-10-05 06:03:01,444 - analysis_engine.work_tasks.publish_pricing_update - INFO - run_publish_pricing_update - SPY_intro_2018-10-05 - start\n",
      "2018-10-05 06:03:01,453 - analysis_engine.work_tasks.publish_pricing_update - INFO - task - publish_pricing - start\n",
      "2018-10-05 06:03:01,461 - analysis_engine.work_tasks.publish_pricing_update - INFO - SPY_intro_2018-10-05 building s3 endpoint_url=http://minio:9000 region=us-east-1\n",
      "2018-10-05 06:03:01,498 - analysis_engine.work_tasks.publish_pricing_update - INFO - SPY_intro_2018-10-05 checking bucket=pricing exists\n",
      "2018-10-05 06:03:01,529 - analysis_engine.work_tasks.publish_pricing_update - INFO - SPY_intro_2018-10-05 uploading to s3=pricing/SPY_intro_2018-10-05 updated=2018-10-05 06:02:59\n",
      "2018-10-05 06:03:01,561 - analysis_engine.work_tasks.publish_pricing_update - INFO - redis enabled address=redis:6379@4 key=SPY_latest\n",
      "2018-10-05 06:03:01,569 - analysis_engine.work_tasks.publish_pricing_update - INFO - SPY_intro_2018-10-05 publishing redis=redis:6379 db=4 key=SPY_latest updated=2018-10-05 06:02:59 expire=None\n",
      "2018-10-05 06:03:01,574 - analysis_engine.set_data_in_redis_key - INFO - SPY_intro_2018-10-05 serializer=json encoding=utf-8 for key=SPY_latest\n",
      "2018-10-05 06:03:01,579 - analysis_engine.set_data_in_redis_key - INFO - SPY_intro_2018-10-05 set - key=SPY_latest\n",
      "2018-10-05 06:03:01,590 - analysis_engine.work_tasks.publish_pricing_update - INFO - SPY_intro_2018-10-05 redis_set status=SUCCESS err=None\n",
      "2018-10-05 06:03:01,596 - analysis_engine.work_tasks.publish_pricing_update - INFO - task - publish_pricing_update done - SPY_intro_2018-10-05 - status=SUCCESS\n",
      "2018-10-05 06:03:01,600 - analysis_engine.work_tasks.publish_pricing_update - INFO - getting task result={\n",
      "    \"err\": null,\n",
      "    \"rec\": {\n",
      "        \"redis_enabled\": true,\n",
      "        \"redis_key\": \"SPY_latest\",\n",
      "        \"s3_bucket\": \"pricing\",\n",
      "        \"s3_enabled\": true,\n",
      "        \"s3_key\": \"SPY_intro_2018-10-05\",\n",
      "        \"ticker\": \"SPY\",\n",
      "        \"ticker_id\": 1,\n",
      "        \"updated\": \"2018-10-05 06:02:59\"\n",
      "    },\n",
      "    \"status\": 0\n",
      "}\n",
      "2018-10-05 06:03:01,604 - analysis_engine.work_tasks.publish_pricing_update - INFO - run_publish_pricing_update - SPY_intro_2018-10-05 - done status=SUCCESS err=None rec={'ticker': 'SPY', 'ticker_id': 1, 's3_enabled': True, 'redis_enabled': True, 's3_bucket': 'pricing', 's3_key': 'SPY_intro_2018-10-05', 'redis_key': 'SPY_latest', 'updated': '2018-10-05 06:02:59'}\n",
      "2018-10-05 06:03:01,607 - analysis_engine.work_tasks.get_new_pricing_data - INFO - SPY_intro_2018-10-05 update_res status=SUCCESS data={'status': 0, 'err': None, 'rec': {'ticker': 'SPY', 'ticker_id': 1, 's3_enabled': True, 'redis_enabled': True, 's3_bucket': 'pricing', 's3_key': 'SPY_intro_2018-10-05', 'redis_key': 'SPY_latest', 'updated': '2018-10-05 06:02:59'}}\n",
      "2018-10-05 06:03:01,610 - analysis_engine.work_tasks.get_new_pricing_data - INFO - task - get_new_pricing_data done - SPY_intro_2018-10-05 - status=SUCCESS\n"
     ]
    }
   ],
   "source": [
    "task_res = task_pricing.get_new_pricing_data(\n",
    "    work)"
   ]
  },
  {
   "cell_type": "code",
   "execution_count": 26,
   "metadata": {},
   "outputs": [
    {
     "name": "stdout",
     "output_type": "stream",
     "text": [
      "2018-10-05 06:04:48,782 - intro-nb - INFO - Intro ticker=SPY completed\n"
     ]
    }
   ],
   "source": [
    "log.info('Intro ticker={} completed'.format(\n",
    "    ticker))"
   ]
  },
  {
   "cell_type": "code",
   "execution_count": null,
   "metadata": {},
   "outputs": [],
   "source": []
  }
 ],
 "metadata": {
  "kernelspec": {
   "display_name": "Python 3",
   "language": "python",
   "name": "python3"
  },
  "language_info": {
   "codemirror_mode": {
    "name": "ipython",
    "version": 3
   },
   "file_extension": ".py",
   "mimetype": "text/x-python",
   "name": "python",
   "nbconvert_exporter": "python",
   "pygments_lexer": "ipython3",
   "version": "3.6.6"
  }
 },
 "nbformat": 4,
 "nbformat_minor": 2
}
